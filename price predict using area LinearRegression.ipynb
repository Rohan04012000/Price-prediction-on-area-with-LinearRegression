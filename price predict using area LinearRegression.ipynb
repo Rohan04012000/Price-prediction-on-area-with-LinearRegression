{
 "cells": [
  {
   "cell_type": "code",
   "execution_count": 6,
   "metadata": {},
   "outputs": [],
   "source": [
    "import numpy as np\n",
    "import pandas as pd\n",
    "import matplotlib.pyplot as plt\n",
    "from sklearn.linear_model import LinearRegression"
   ]
  },
  {
   "cell_type": "code",
   "execution_count": 9,
   "metadata": {},
   "outputs": [
    {
     "name": "stdout",
     "output_type": "stream",
     "text": [
      "   area  price\n",
      "0   120     50\n",
      "1    80     30\n",
      "2    56     22\n",
      "3   100     40\n",
      "4    78     28\n",
      "5    90     35\n"
     ]
    }
   ],
   "source": [
    "#Reading a file, with area and price columns.\n",
    "file = pd.read_csv(\"trial.csv\")\n",
    "print(file)"
   ]
  },
  {
   "cell_type": "code",
   "execution_count": 13,
   "metadata": {},
   "outputs": [
    {
     "data": {
      "text/plain": [
       "<matplotlib.collections.PathCollection at 0x28b0e8b2448>"
      ]
     },
     "execution_count": 13,
     "metadata": {},
     "output_type": "execute_result"
    },
    {
     "data": {
      "image/png": "[encoded data removed]",
      "text/plain": [
       "<Figure size 432x288 with 1 Axes>"
      ]
     },
     "metadata": {
      "needs_background": "light"
     },
     "output_type": "display_data"
    }
   ],
   "source": [
    "#now labelling the x-axis and y-axis, and plotting  x and y value.\n",
    "plt.xlabel(\"area\")\n",
    "plt.ylabel(\"price\")\n",
    "plt.scatter(file['area'],file['price'],color=\"red\",marker=\"+\")"
   ]
  },
  {
   "cell_type": "code",
   "execution_count": 14,
   "metadata": {},
   "outputs": [
    {
     "data": {
      "text/plain": [
       "LinearRegression(copy_X=True, fit_intercept=True, n_jobs=None, normalize=False)"
      ]
     },
     "execution_count": 14,
     "metadata": {},
     "output_type": "execute_result"
    }
   ],
   "source": [
    "#training my model\n",
    "lg = linear_model.LinearRegression()\n",
    "#now i  need to fit the model with x and y value.\n",
    "#1st argument has to be x axis in 2d array\n",
    "lg.fit(file[[\"area\"]],file.price)"
   ]
  },
  {
   "cell_type": "code",
   "execution_count": 15,
   "metadata": {},
   "outputs": [
    {
     "data": {
      "text/plain": [
       "array([30.86085973])"
      ]
     },
     "execution_count": 15,
     "metadata": {},
     "output_type": "execute_result"
    }
   ],
   "source": [
    "#checking if out model works.\n",
    "#we need to pass 2d array with any area\n",
    "lg.predict([[80]])"
   ]
  },
  {
   "cell_type": "code",
   "execution_count": 16,
   "metadata": {
    "scrolled": false
   },
   "outputs": [
    {
     "name": "stdout",
     "output_type": "stream",
     "text": [
      "[0.45079186]\n",
      "-5.202488687782818\n"
     ]
    }
   ],
   "source": [
    "#to find the coefficient and intercept.\n",
    "print(lg.coef_)\n",
    "print(lg.intercept_)"
   ]
  },
  {
   "cell_type": "code",
   "execution_count": 21,
   "metadata": {},
   "outputs": [
    {
     "data": {
      "text/plain": [
       "array([48.89253394, 30.86085973, 20.0418552 , 39.87669683, 29.95927602,\n",
       "       35.36877828])"
      ]
     },
     "execution_count": 21,
     "metadata": {},
     "output_type": "execute_result"
    }
   ],
   "source": [
    "#to check how my model looks.\n",
    "y_predict = lg.predict(file[['area']])\n",
    "y_predict"
   ]
  },
  {
   "cell_type": "code",
   "execution_count": 26,
   "metadata": {},
   "outputs": [
    {
     "data": {
      "text/plain": [
       "[<matplotlib.lines.Line2D at 0x28b0e9b1f08>]"
      ]
     },
     "execution_count": 26,
     "metadata": {},
     "output_type": "execute_result"
    },
    {
     "data": {
      "image/png": "[encoded data removed]",
      "text/plain": [
       "<Figure size 432x288 with 1 Axes>"
      ]
     },
     "metadata": {
      "needs_background": "light"
     },
     "output_type": "display_data"
    }
   ],
   "source": [
    "#plotting my model, with blue line\n",
    "plt.scatter(file.area,file.price,color=\"red\",marker=\"+\")\n",
    "plt.plot(file.area,y_predict,color= \"blue\")"
   ]
  },
  {
   "cell_type": "code",
   "execution_count": 27,
   "metadata": {},
   "outputs": [
    {
     "name": "stdout",
     "output_type": "stream",
     "text": [
      "   area       price\n",
      "0   278  120.117647\n",
      "1   213   90.816176\n",
      "2   789  350.472285\n",
      "3   234  100.282805\n",
      "4   111   44.835407\n",
      "5   890  396.002262\n",
      "6    90   35.368778\n",
      "7   243  104.339932\n"
     ]
    }
   ],
   "source": [
    "d = pd.read_csv(\"area.csv\")\n",
    "print(d)"
   ]
  },
  {
   "cell_type": "code",
   "execution_count": 55,
   "metadata": {},
   "outputs": [],
   "source": [
    "#i am using my trained model to predict the price of another dataset.\n",
    "#lg.predict(d)"
   ]
  },
  {
   "cell_type": "code",
   "execution_count": 24,
   "metadata": {},
   "outputs": [
    {
     "name": "stdout",
     "output_type": "stream",
     "text": [
      "   area       price\n",
      "0   278  120.117647\n",
      "1   213   90.816176\n",
      "2   789  350.472285\n",
      "3   234  100.282805\n",
      "4   111   44.835407\n",
      "5   890  396.002262\n",
      "6    90   35.368778\n",
      "7   243  104.339932\n"
     ]
    }
   ],
   "source": [
    "#i am using trained model to predict the price of another dataset. and then making column and storing price\n",
    "p = lg.predict(d)\n",
    "d['price'] = p\n",
    "d.to_csv(\"area.csv\",index=False)\n",
    "print(d)"
   ]
  },
  {
   "cell_type": "code",
   "execution_count": null,
   "metadata": {},
   "outputs": [],
   "source": []
  }
 ],
 "metadata": {
  "kernelspec": {
   "display_name": "Python 3",
   "language": "python",
   "name": "python3"
  },
  "language_info": {
   "codemirror_mode": {
    "name": "ipython",
    "version": 3
   },
   "file_extension": ".py",
   "mimetype": "text/x-python",
   "name": "python",
   "nbconvert_exporter": "python",
   "pygments_lexer": "ipython3",
   "version": "3.7.4"
  }
 },
 "nbformat": 4,
 "nbformat_minor": 2
}
